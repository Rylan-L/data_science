{
 "cells": [
  {
   "cell_type": "markdown",
   "metadata": {},
   "source": [
    "# Part 2/2: Predicting whether a semiconductor product will pass or fail using neural networks\n",
    "\n",
    "## Rylan Larsen\n"
   ]
  },
  {
   "cell_type": "markdown",
   "metadata": {},
   "source": [
    "As a follow-up to using non-neural network classifiers, I tested three neural network models classifiers on the Secom dataset. The goal here was to make a classifier which predicte the class (pass/fail) for the manufacturing product. In this dataset, there are very few failed examples. \n",
    "\n",
    "For the simple neural network, I used a single layer (no hidden) NN with a relu Function. This performed quite well (95% accuracy on test data). \n",
    "\n",
    "For the deep neural network, I added a hidden layer and also added hte ability to tweak the learning rate and momentum. The performance was actually worse for this network with the hidden layer (93%). The hyperparameters may need to be tweaked here.\n",
    "\n",
    "For the LSTM, I had a LSTM of 50 neurons instead of a deep layer. This performed similarily to the DNN, with 93% accuracy. I'm not entirely sure the LSTM was the best choice for this data, since it was not-continously spaced time samples and this detail was not passed into the model."
   ]
  },
  {
   "cell_type": "code",
   "execution_count": 155,
   "metadata": {},
   "outputs": [],
   "source": [
    "import pandas as pd\n",
    "import seaborn as sns\n",
    "import matplotlib.pyplot as pyplot\n",
    "import numpy as np\n",
    "\n",
    "from tensorflow import keras\n",
    "import tensorflow as tf"
   ]
  },
  {
   "cell_type": "markdown",
   "metadata": {},
   "source": [
    "# Load Dataset and parse columns"
   ]
  },
  {
   "cell_type": "code",
   "execution_count": 2,
   "metadata": {},
   "outputs": [],
   "source": [
    "# Load dataset\n",
    "url = \"https://archive.ics.uci.edu/ml/machine-learning-databases/secom/secom.data\"\n",
    "names = [\"feat\" + str(x) for x in range(1, 591)]\n",
    "secom_var = pd.read_csv(url, sep=\" \", names=names, na_values = \"NaN\") \n",
    " \n",
    " \n",
    "url_l = \"https://archive.ics.uci.edu/ml/machine-learning-databases/secom/secom_labels.data\"\n",
    "secom_labels = pd.read_csv(url_l,sep=\" \",names = [\"class\",\"date\"],parse_dates = [\"date\"],na_values = \"NaN\")"
   ]
  },
  {
   "cell_type": "code",
   "execution_count": 3,
   "metadata": {},
   "outputs": [],
   "source": [
    "secom = pd.merge(secom_var, secom_labels,left_index=True,right_index=True)"
   ]
  },
  {
   "cell_type": "code",
   "execution_count": 4,
   "metadata": {},
   "outputs": [
    {
     "data": {
      "text/html": [
       "<div>\n",
       "<style scoped>\n",
       "    .dataframe tbody tr th:only-of-type {\n",
       "        vertical-align: middle;\n",
       "    }\n",
       "\n",
       "    .dataframe tbody tr th {\n",
       "        vertical-align: top;\n",
       "    }\n",
       "\n",
       "    .dataframe thead th {\n",
       "        text-align: right;\n",
       "    }\n",
       "</style>\n",
       "<table border=\"1\" class=\"dataframe\">\n",
       "  <thead>\n",
       "    <tr style=\"text-align: right;\">\n",
       "      <th></th>\n",
       "      <th>feat1</th>\n",
       "      <th>feat2</th>\n",
       "      <th>feat3</th>\n",
       "      <th>feat4</th>\n",
       "      <th>feat5</th>\n",
       "      <th>feat6</th>\n",
       "      <th>feat7</th>\n",
       "      <th>feat8</th>\n",
       "      <th>feat9</th>\n",
       "      <th>feat10</th>\n",
       "      <th>...</th>\n",
       "      <th>feat582</th>\n",
       "      <th>feat583</th>\n",
       "      <th>feat584</th>\n",
       "      <th>feat585</th>\n",
       "      <th>feat586</th>\n",
       "      <th>feat587</th>\n",
       "      <th>feat588</th>\n",
       "      <th>feat589</th>\n",
       "      <th>feat590</th>\n",
       "      <th>class</th>\n",
       "    </tr>\n",
       "  </thead>\n",
       "  <tbody>\n",
       "    <tr>\n",
       "      <th>count</th>\n",
       "      <td>1561.000000</td>\n",
       "      <td>1560.000000</td>\n",
       "      <td>1553.000000</td>\n",
       "      <td>1553.000000</td>\n",
       "      <td>1553.000000</td>\n",
       "      <td>1553.0</td>\n",
       "      <td>1553.000000</td>\n",
       "      <td>1558.000000</td>\n",
       "      <td>1565.000000</td>\n",
       "      <td>1565.000000</td>\n",
       "      <td>...</td>\n",
       "      <td>618.000000</td>\n",
       "      <td>1566.000000</td>\n",
       "      <td>1566.000000</td>\n",
       "      <td>1566.000000</td>\n",
       "      <td>1566.000000</td>\n",
       "      <td>1566.000000</td>\n",
       "      <td>1566.000000</td>\n",
       "      <td>1566.000000</td>\n",
       "      <td>1566.000000</td>\n",
       "      <td>1567.000000</td>\n",
       "    </tr>\n",
       "    <tr>\n",
       "      <th>mean</th>\n",
       "      <td>3014.452896</td>\n",
       "      <td>2495.850231</td>\n",
       "      <td>2200.547318</td>\n",
       "      <td>1396.376627</td>\n",
       "      <td>4.197013</td>\n",
       "      <td>100.0</td>\n",
       "      <td>101.112908</td>\n",
       "      <td>0.121822</td>\n",
       "      <td>1.462862</td>\n",
       "      <td>-0.000841</td>\n",
       "      <td>...</td>\n",
       "      <td>97.934373</td>\n",
       "      <td>0.500096</td>\n",
       "      <td>0.015318</td>\n",
       "      <td>0.003847</td>\n",
       "      <td>3.067826</td>\n",
       "      <td>0.021458</td>\n",
       "      <td>0.016475</td>\n",
       "      <td>0.005283</td>\n",
       "      <td>99.670066</td>\n",
       "      <td>-0.867262</td>\n",
       "    </tr>\n",
       "    <tr>\n",
       "      <th>std</th>\n",
       "      <td>73.621787</td>\n",
       "      <td>80.407705</td>\n",
       "      <td>29.513152</td>\n",
       "      <td>441.691640</td>\n",
       "      <td>56.355540</td>\n",
       "      <td>0.0</td>\n",
       "      <td>6.237214</td>\n",
       "      <td>0.008961</td>\n",
       "      <td>0.073897</td>\n",
       "      <td>0.015116</td>\n",
       "      <td>...</td>\n",
       "      <td>87.520966</td>\n",
       "      <td>0.003404</td>\n",
       "      <td>0.017180</td>\n",
       "      <td>0.003720</td>\n",
       "      <td>3.578033</td>\n",
       "      <td>0.012358</td>\n",
       "      <td>0.008808</td>\n",
       "      <td>0.002867</td>\n",
       "      <td>93.891919</td>\n",
       "      <td>0.498010</td>\n",
       "    </tr>\n",
       "    <tr>\n",
       "      <th>min</th>\n",
       "      <td>2743.240000</td>\n",
       "      <td>2158.750000</td>\n",
       "      <td>2060.660000</td>\n",
       "      <td>0.000000</td>\n",
       "      <td>0.681500</td>\n",
       "      <td>100.0</td>\n",
       "      <td>82.131100</td>\n",
       "      <td>0.000000</td>\n",
       "      <td>1.191000</td>\n",
       "      <td>-0.053400</td>\n",
       "      <td>...</td>\n",
       "      <td>0.000000</td>\n",
       "      <td>0.477800</td>\n",
       "      <td>0.006000</td>\n",
       "      <td>0.001700</td>\n",
       "      <td>1.197500</td>\n",
       "      <td>-0.016900</td>\n",
       "      <td>0.003200</td>\n",
       "      <td>0.001000</td>\n",
       "      <td>0.000000</td>\n",
       "      <td>-1.000000</td>\n",
       "    </tr>\n",
       "    <tr>\n",
       "      <th>25%</th>\n",
       "      <td>2966.260000</td>\n",
       "      <td>2452.247500</td>\n",
       "      <td>2181.044400</td>\n",
       "      <td>1081.875800</td>\n",
       "      <td>1.017700</td>\n",
       "      <td>100.0</td>\n",
       "      <td>97.920000</td>\n",
       "      <td>0.121100</td>\n",
       "      <td>1.411200</td>\n",
       "      <td>-0.010800</td>\n",
       "      <td>...</td>\n",
       "      <td>46.184900</td>\n",
       "      <td>0.497900</td>\n",
       "      <td>0.011600</td>\n",
       "      <td>0.003100</td>\n",
       "      <td>2.306500</td>\n",
       "      <td>0.013425</td>\n",
       "      <td>0.010600</td>\n",
       "      <td>0.003300</td>\n",
       "      <td>44.368600</td>\n",
       "      <td>-1.000000</td>\n",
       "    </tr>\n",
       "    <tr>\n",
       "      <th>50%</th>\n",
       "      <td>3011.490000</td>\n",
       "      <td>2499.405000</td>\n",
       "      <td>2201.066700</td>\n",
       "      <td>1285.214400</td>\n",
       "      <td>1.316800</td>\n",
       "      <td>100.0</td>\n",
       "      <td>101.512200</td>\n",
       "      <td>0.122400</td>\n",
       "      <td>1.461600</td>\n",
       "      <td>-0.001300</td>\n",
       "      <td>...</td>\n",
       "      <td>72.288900</td>\n",
       "      <td>0.500200</td>\n",
       "      <td>0.013800</td>\n",
       "      <td>0.003600</td>\n",
       "      <td>2.757650</td>\n",
       "      <td>0.020500</td>\n",
       "      <td>0.014800</td>\n",
       "      <td>0.004600</td>\n",
       "      <td>71.900500</td>\n",
       "      <td>-1.000000</td>\n",
       "    </tr>\n",
       "    <tr>\n",
       "      <th>75%</th>\n",
       "      <td>3056.650000</td>\n",
       "      <td>2538.822500</td>\n",
       "      <td>2218.055500</td>\n",
       "      <td>1591.223500</td>\n",
       "      <td>1.525700</td>\n",
       "      <td>100.0</td>\n",
       "      <td>104.586700</td>\n",
       "      <td>0.123800</td>\n",
       "      <td>1.516900</td>\n",
       "      <td>0.008400</td>\n",
       "      <td>...</td>\n",
       "      <td>116.539150</td>\n",
       "      <td>0.502375</td>\n",
       "      <td>0.016500</td>\n",
       "      <td>0.004100</td>\n",
       "      <td>3.295175</td>\n",
       "      <td>0.027600</td>\n",
       "      <td>0.020300</td>\n",
       "      <td>0.006400</td>\n",
       "      <td>114.749700</td>\n",
       "      <td>-1.000000</td>\n",
       "    </tr>\n",
       "    <tr>\n",
       "      <th>max</th>\n",
       "      <td>3356.350000</td>\n",
       "      <td>2846.440000</td>\n",
       "      <td>2315.266700</td>\n",
       "      <td>3715.041700</td>\n",
       "      <td>1114.536600</td>\n",
       "      <td>100.0</td>\n",
       "      <td>129.252200</td>\n",
       "      <td>0.128600</td>\n",
       "      <td>1.656400</td>\n",
       "      <td>0.074900</td>\n",
       "      <td>...</td>\n",
       "      <td>737.304800</td>\n",
       "      <td>0.509800</td>\n",
       "      <td>0.476600</td>\n",
       "      <td>0.104500</td>\n",
       "      <td>99.303200</td>\n",
       "      <td>0.102800</td>\n",
       "      <td>0.079900</td>\n",
       "      <td>0.028600</td>\n",
       "      <td>737.304800</td>\n",
       "      <td>1.000000</td>\n",
       "    </tr>\n",
       "  </tbody>\n",
       "</table>\n",
       "<p>8 rows × 591 columns</p>\n",
       "</div>"
      ],
      "text/plain": [
       "             feat1        feat2        feat3        feat4        feat5  \\\n",
       "count  1561.000000  1560.000000  1553.000000  1553.000000  1553.000000   \n",
       "mean   3014.452896  2495.850231  2200.547318  1396.376627     4.197013   \n",
       "std      73.621787    80.407705    29.513152   441.691640    56.355540   \n",
       "min    2743.240000  2158.750000  2060.660000     0.000000     0.681500   \n",
       "25%    2966.260000  2452.247500  2181.044400  1081.875800     1.017700   \n",
       "50%    3011.490000  2499.405000  2201.066700  1285.214400     1.316800   \n",
       "75%    3056.650000  2538.822500  2218.055500  1591.223500     1.525700   \n",
       "max    3356.350000  2846.440000  2315.266700  3715.041700  1114.536600   \n",
       "\n",
       "        feat6        feat7        feat8        feat9       feat10  \\\n",
       "count  1553.0  1553.000000  1558.000000  1565.000000  1565.000000   \n",
       "mean    100.0   101.112908     0.121822     1.462862    -0.000841   \n",
       "std       0.0     6.237214     0.008961     0.073897     0.015116   \n",
       "min     100.0    82.131100     0.000000     1.191000    -0.053400   \n",
       "25%     100.0    97.920000     0.121100     1.411200    -0.010800   \n",
       "50%     100.0   101.512200     0.122400     1.461600    -0.001300   \n",
       "75%     100.0   104.586700     0.123800     1.516900     0.008400   \n",
       "max     100.0   129.252200     0.128600     1.656400     0.074900   \n",
       "\n",
       "          ...          feat582      feat583      feat584      feat585  \\\n",
       "count     ...       618.000000  1566.000000  1566.000000  1566.000000   \n",
       "mean      ...        97.934373     0.500096     0.015318     0.003847   \n",
       "std       ...        87.520966     0.003404     0.017180     0.003720   \n",
       "min       ...         0.000000     0.477800     0.006000     0.001700   \n",
       "25%       ...        46.184900     0.497900     0.011600     0.003100   \n",
       "50%       ...        72.288900     0.500200     0.013800     0.003600   \n",
       "75%       ...       116.539150     0.502375     0.016500     0.004100   \n",
       "max       ...       737.304800     0.509800     0.476600     0.104500   \n",
       "\n",
       "           feat586      feat587      feat588      feat589      feat590  \\\n",
       "count  1566.000000  1566.000000  1566.000000  1566.000000  1566.000000   \n",
       "mean      3.067826     0.021458     0.016475     0.005283    99.670066   \n",
       "std       3.578033     0.012358     0.008808     0.002867    93.891919   \n",
       "min       1.197500    -0.016900     0.003200     0.001000     0.000000   \n",
       "25%       2.306500     0.013425     0.010600     0.003300    44.368600   \n",
       "50%       2.757650     0.020500     0.014800     0.004600    71.900500   \n",
       "75%       3.295175     0.027600     0.020300     0.006400   114.749700   \n",
       "max      99.303200     0.102800     0.079900     0.028600   737.304800   \n",
       "\n",
       "             class  \n",
       "count  1567.000000  \n",
       "mean     -0.867262  \n",
       "std       0.498010  \n",
       "min      -1.000000  \n",
       "25%      -1.000000  \n",
       "50%      -1.000000  \n",
       "75%      -1.000000  \n",
       "max       1.000000  \n",
       "\n",
       "[8 rows x 591 columns]"
      ]
     },
     "execution_count": 4,
     "metadata": {},
     "output_type": "execute_result"
    }
   ],
   "source": [
    "secom.describe()"
   ]
  },
  {
   "cell_type": "code",
   "execution_count": 142,
   "metadata": {},
   "outputs": [
    {
     "name": "stdout",
     "output_type": "stream",
     "text": [
      "(1567, 592)\n"
     ]
    }
   ],
   "source": [
    "print(np.shape(secom))"
   ]
  },
  {
   "cell_type": "markdown",
   "metadata": {},
   "source": [
    "# Handle missing"
   ]
  },
  {
   "cell_type": "markdown",
   "metadata": {},
   "source": [
    "There are a lot of attributes in this data set, let's explore how many of them have missing values:"
   ]
  },
  {
   "cell_type": "code",
   "execution_count": 5,
   "metadata": {},
   "outputs": [
    {
     "data": {
      "image/png": "[encoded data removed]",
      "text/plain": [
       "<Figure size 720x720 with 1 Axes>"
      ]
     },
     "metadata": {
      "needs_background": "light"
     },
     "output_type": "display_data"
    }
   ],
   "source": [
    "fig, ax = plt.subplots(figsize=(10,10))\n",
    "sns.heatmap(secom.isnull(), cbar=False,ax=ax);"
   ]
  },
  {
   "cell_type": "markdown",
   "metadata": {},
   "source": [
    "Several of the columns are missing data the vast majority of the time. While we could encode the \"missing\" value as it's own type of variable for our feature selection, I'm going to remove features that are lacking more than 80% of their missing values and for the others, replace the misssing values by the median."
   ]
  },
  {
   "cell_type": "code",
   "execution_count": 6,
   "metadata": {},
   "outputs": [],
   "source": [
    "def replace_nan(df,cols,method='median',drop_columns_thresh=0.):\n",
    "    '''Replace nan values in select pandas dataframe columns\n",
    "    :Param df: dataframe to replace nans from\n",
    "    :Param columns: columns to replace nans from\n",
    "    :Param method: whether to use median or mean\n",
    "    '''\n",
    "\n",
    "    if drop_columns_thresh > 0.:\n",
    "        if drop_columns_thresh > 1.:\n",
    "            raise ('drop columns threshold is a percentage, cannot be greater than 1')\n",
    "        \n",
    "        drop_cols=list(df.columns[df.isnull().mean() > drop_columns_thresh])\n",
    "        df.drop(drop_cols, axis=1)\n",
    "        \n",
    "    if method=='median':\n",
    "        return df[cols].fillna(df.median())\n",
    "    elif method=='mean':\n",
    "        return df[cols].fillna(df.mean())\n",
    "    "
   ]
  },
  {
   "cell_type": "code",
   "execution_count": 9,
   "metadata": {},
   "outputs": [],
   "source": [
    "#get the columns of the dataframe\n",
    "cols=list(secom.columns)\n",
    "secom=replace_nan(secom,cols,drop_columns_thresh=0.8)\n",
    "cols.remove('class')\n",
    "cols.remove('date')\n"
   ]
  },
  {
   "cell_type": "code",
   "execution_count": 10,
   "metadata": {},
   "outputs": [
    {
     "data": {
      "text/html": [
       "<div>\n",
       "<style scoped>\n",
       "    .dataframe tbody tr th:only-of-type {\n",
       "        vertical-align: middle;\n",
       "    }\n",
       "\n",
       "    .dataframe tbody tr th {\n",
       "        vertical-align: top;\n",
       "    }\n",
       "\n",
       "    .dataframe thead th {\n",
       "        text-align: right;\n",
       "    }\n",
       "</style>\n",
       "<table border=\"1\" class=\"dataframe\">\n",
       "  <thead>\n",
       "    <tr style=\"text-align: right;\">\n",
       "      <th></th>\n",
       "      <th>feat1</th>\n",
       "      <th>feat2</th>\n",
       "      <th>feat3</th>\n",
       "      <th>feat4</th>\n",
       "      <th>feat5</th>\n",
       "      <th>feat6</th>\n",
       "      <th>feat7</th>\n",
       "      <th>feat8</th>\n",
       "      <th>feat9</th>\n",
       "      <th>feat10</th>\n",
       "      <th>...</th>\n",
       "      <th>feat582</th>\n",
       "      <th>feat583</th>\n",
       "      <th>feat584</th>\n",
       "      <th>feat585</th>\n",
       "      <th>feat586</th>\n",
       "      <th>feat587</th>\n",
       "      <th>feat588</th>\n",
       "      <th>feat589</th>\n",
       "      <th>feat590</th>\n",
       "      <th>class</th>\n",
       "    </tr>\n",
       "  </thead>\n",
       "  <tbody>\n",
       "    <tr>\n",
       "      <th>count</th>\n",
       "      <td>1567.000000</td>\n",
       "      <td>1567.000000</td>\n",
       "      <td>1567.000000</td>\n",
       "      <td>1567.000000</td>\n",
       "      <td>1567.000000</td>\n",
       "      <td>1567.0</td>\n",
       "      <td>1567.000000</td>\n",
       "      <td>1567.000000</td>\n",
       "      <td>1567.000000</td>\n",
       "      <td>1567.000000</td>\n",
       "      <td>...</td>\n",
       "      <td>1567.000000</td>\n",
       "      <td>1567.000000</td>\n",
       "      <td>1567.000000</td>\n",
       "      <td>1567.000000</td>\n",
       "      <td>1567.000000</td>\n",
       "      <td>1567.000000</td>\n",
       "      <td>1567.000000</td>\n",
       "      <td>1567.000000</td>\n",
       "      <td>1567.000000</td>\n",
       "      <td>1567.000000</td>\n",
       "    </tr>\n",
       "    <tr>\n",
       "      <th>mean</th>\n",
       "      <td>3014.441551</td>\n",
       "      <td>2495.866110</td>\n",
       "      <td>2200.551958</td>\n",
       "      <td>1395.383474</td>\n",
       "      <td>4.171281</td>\n",
       "      <td>100.0</td>\n",
       "      <td>101.116476</td>\n",
       "      <td>0.121825</td>\n",
       "      <td>1.462860</td>\n",
       "      <td>-0.000842</td>\n",
       "      <td>...</td>\n",
       "      <td>82.403069</td>\n",
       "      <td>0.500096</td>\n",
       "      <td>0.015317</td>\n",
       "      <td>0.003846</td>\n",
       "      <td>3.067628</td>\n",
       "      <td>0.021458</td>\n",
       "      <td>0.016474</td>\n",
       "      <td>0.005283</td>\n",
       "      <td>99.652345</td>\n",
       "      <td>-0.867262</td>\n",
       "    </tr>\n",
       "    <tr>\n",
       "      <th>std</th>\n",
       "      <td>73.480841</td>\n",
       "      <td>80.228143</td>\n",
       "      <td>29.380973</td>\n",
       "      <td>439.837330</td>\n",
       "      <td>56.103721</td>\n",
       "      <td>0.0</td>\n",
       "      <td>6.209385</td>\n",
       "      <td>0.008936</td>\n",
       "      <td>0.073849</td>\n",
       "      <td>0.015107</td>\n",
       "      <td>...</td>\n",
       "      <td>56.348694</td>\n",
       "      <td>0.003403</td>\n",
       "      <td>0.017174</td>\n",
       "      <td>0.003719</td>\n",
       "      <td>3.576899</td>\n",
       "      <td>0.012354</td>\n",
       "      <td>0.008805</td>\n",
       "      <td>0.002866</td>\n",
       "      <td>93.864558</td>\n",
       "      <td>0.498010</td>\n",
       "    </tr>\n",
       "    <tr>\n",
       "      <th>min</th>\n",
       "      <td>2743.240000</td>\n",
       "      <td>2158.750000</td>\n",
       "      <td>2060.660000</td>\n",
       "      <td>0.000000</td>\n",
       "      <td>0.681500</td>\n",
       "      <td>100.0</td>\n",
       "      <td>82.131100</td>\n",
       "      <td>0.000000</td>\n",
       "      <td>1.191000</td>\n",
       "      <td>-0.053400</td>\n",
       "      <td>...</td>\n",
       "      <td>0.000000</td>\n",
       "      <td>0.477800</td>\n",
       "      <td>0.006000</td>\n",
       "      <td>0.001700</td>\n",
       "      <td>1.197500</td>\n",
       "      <td>-0.016900</td>\n",
       "      <td>0.003200</td>\n",
       "      <td>0.001000</td>\n",
       "      <td>0.000000</td>\n",
       "      <td>-1.000000</td>\n",
       "    </tr>\n",
       "    <tr>\n",
       "      <th>25%</th>\n",
       "      <td>2966.665000</td>\n",
       "      <td>2452.885000</td>\n",
       "      <td>2181.099950</td>\n",
       "      <td>1083.885800</td>\n",
       "      <td>1.017700</td>\n",
       "      <td>100.0</td>\n",
       "      <td>97.937800</td>\n",
       "      <td>0.121100</td>\n",
       "      <td>1.411250</td>\n",
       "      <td>-0.010800</td>\n",
       "      <td>...</td>\n",
       "      <td>72.288900</td>\n",
       "      <td>0.497900</td>\n",
       "      <td>0.011600</td>\n",
       "      <td>0.003100</td>\n",
       "      <td>2.306500</td>\n",
       "      <td>0.013450</td>\n",
       "      <td>0.010600</td>\n",
       "      <td>0.003300</td>\n",
       "      <td>44.368600</td>\n",
       "      <td>-1.000000</td>\n",
       "    </tr>\n",
       "    <tr>\n",
       "      <th>50%</th>\n",
       "      <td>3011.490000</td>\n",
       "      <td>2499.405000</td>\n",
       "      <td>2201.066700</td>\n",
       "      <td>1285.214400</td>\n",
       "      <td>1.316800</td>\n",
       "      <td>100.0</td>\n",
       "      <td>101.512200</td>\n",
       "      <td>0.122400</td>\n",
       "      <td>1.461600</td>\n",
       "      <td>-0.001300</td>\n",
       "      <td>...</td>\n",
       "      <td>72.288900</td>\n",
       "      <td>0.500200</td>\n",
       "      <td>0.013800</td>\n",
       "      <td>0.003600</td>\n",
       "      <td>2.757650</td>\n",
       "      <td>0.020500</td>\n",
       "      <td>0.014800</td>\n",
       "      <td>0.004600</td>\n",
       "      <td>71.900500</td>\n",
       "      <td>-1.000000</td>\n",
       "    </tr>\n",
       "    <tr>\n",
       "      <th>75%</th>\n",
       "      <td>3056.540000</td>\n",
       "      <td>2538.745000</td>\n",
       "      <td>2218.055500</td>\n",
       "      <td>1590.169900</td>\n",
       "      <td>1.518800</td>\n",
       "      <td>100.0</td>\n",
       "      <td>104.530000</td>\n",
       "      <td>0.123800</td>\n",
       "      <td>1.516850</td>\n",
       "      <td>0.008400</td>\n",
       "      <td>...</td>\n",
       "      <td>72.288900</td>\n",
       "      <td>0.502350</td>\n",
       "      <td>0.016500</td>\n",
       "      <td>0.004100</td>\n",
       "      <td>3.294950</td>\n",
       "      <td>0.027600</td>\n",
       "      <td>0.020300</td>\n",
       "      <td>0.006400</td>\n",
       "      <td>114.749700</td>\n",
       "      <td>-1.000000</td>\n",
       "    </tr>\n",
       "    <tr>\n",
       "      <th>max</th>\n",
       "      <td>3356.350000</td>\n",
       "      <td>2846.440000</td>\n",
       "      <td>2315.266700</td>\n",
       "      <td>3715.041700</td>\n",
       "      <td>1114.536600</td>\n",
       "      <td>100.0</td>\n",
       "      <td>129.252200</td>\n",
       "      <td>0.128600</td>\n",
       "      <td>1.656400</td>\n",
       "      <td>0.074900</td>\n",
       "      <td>...</td>\n",
       "      <td>737.304800</td>\n",
       "      <td>0.509800</td>\n",
       "      <td>0.476600</td>\n",
       "      <td>0.104500</td>\n",
       "      <td>99.303200</td>\n",
       "      <td>0.102800</td>\n",
       "      <td>0.079900</td>\n",
       "      <td>0.028600</td>\n",
       "      <td>737.304800</td>\n",
       "      <td>1.000000</td>\n",
       "    </tr>\n",
       "  </tbody>\n",
       "</table>\n",
       "<p>8 rows × 591 columns</p>\n",
       "</div>"
      ],
      "text/plain": [
       "             feat1        feat2        feat3        feat4        feat5  \\\n",
       "count  1567.000000  1567.000000  1567.000000  1567.000000  1567.000000   \n",
       "mean   3014.441551  2495.866110  2200.551958  1395.383474     4.171281   \n",
       "std      73.480841    80.228143    29.380973   439.837330    56.103721   \n",
       "min    2743.240000  2158.750000  2060.660000     0.000000     0.681500   \n",
       "25%    2966.665000  2452.885000  2181.099950  1083.885800     1.017700   \n",
       "50%    3011.490000  2499.405000  2201.066700  1285.214400     1.316800   \n",
       "75%    3056.540000  2538.745000  2218.055500  1590.169900     1.518800   \n",
       "max    3356.350000  2846.440000  2315.266700  3715.041700  1114.536600   \n",
       "\n",
       "        feat6        feat7        feat8        feat9       feat10  \\\n",
       "count  1567.0  1567.000000  1567.000000  1567.000000  1567.000000   \n",
       "mean    100.0   101.116476     0.121825     1.462860    -0.000842   \n",
       "std       0.0     6.209385     0.008936     0.073849     0.015107   \n",
       "min     100.0    82.131100     0.000000     1.191000    -0.053400   \n",
       "25%     100.0    97.937800     0.121100     1.411250    -0.010800   \n",
       "50%     100.0   101.512200     0.122400     1.461600    -0.001300   \n",
       "75%     100.0   104.530000     0.123800     1.516850     0.008400   \n",
       "max     100.0   129.252200     0.128600     1.656400     0.074900   \n",
       "\n",
       "          ...           feat582      feat583      feat584      feat585  \\\n",
       "count     ...       1567.000000  1567.000000  1567.000000  1567.000000   \n",
       "mean      ...         82.403069     0.500096     0.015317     0.003846   \n",
       "std       ...         56.348694     0.003403     0.017174     0.003719   \n",
       "min       ...          0.000000     0.477800     0.006000     0.001700   \n",
       "25%       ...         72.288900     0.497900     0.011600     0.003100   \n",
       "50%       ...         72.288900     0.500200     0.013800     0.003600   \n",
       "75%       ...         72.288900     0.502350     0.016500     0.004100   \n",
       "max       ...        737.304800     0.509800     0.476600     0.104500   \n",
       "\n",
       "           feat586      feat587      feat588      feat589      feat590  \\\n",
       "count  1567.000000  1567.000000  1567.000000  1567.000000  1567.000000   \n",
       "mean      3.067628     0.021458     0.016474     0.005283    99.652345   \n",
       "std       3.576899     0.012354     0.008805     0.002866    93.864558   \n",
       "min       1.197500    -0.016900     0.003200     0.001000     0.000000   \n",
       "25%       2.306500     0.013450     0.010600     0.003300    44.368600   \n",
       "50%       2.757650     0.020500     0.014800     0.004600    71.900500   \n",
       "75%       3.294950     0.027600     0.020300     0.006400   114.749700   \n",
       "max      99.303200     0.102800     0.079900     0.028600   737.304800   \n",
       "\n",
       "             class  \n",
       "count  1567.000000  \n",
       "mean     -0.867262  \n",
       "std       0.498010  \n",
       "min      -1.000000  \n",
       "25%      -1.000000  \n",
       "50%      -1.000000  \n",
       "75%      -1.000000  \n",
       "max       1.000000  \n",
       "\n",
       "[8 rows x 591 columns]"
      ]
     },
     "execution_count": 10,
     "metadata": {},
     "output_type": "execute_result"
    }
   ],
   "source": [
    "secom.describe()"
   ]
  },
  {
   "cell_type": "markdown",
   "metadata": {},
   "source": [
    "Now that the missing values have been replaced, I want to try and understand how many of these attributes might be relevant to predicting the \"class\" for this dataset. To do this, I'm going to plot a heatmap of the correlation of each attribute with the class"
   ]
  },
  {
   "cell_type": "markdown",
   "metadata": {},
   "source": [
    "# Split into test train data"
   ]
  },
  {
   "cell_type": "code",
   "execution_count": 203,
   "metadata": {},
   "outputs": [],
   "source": [
    "X,y=secom[cols],secom['class']   \n",
    "\n",
    "y=np.array(y).reshape(-1, 1).astype(np.float32)"
   ]
  },
  {
   "cell_type": "code",
   "execution_count": 204,
   "metadata": {},
   "outputs": [],
   "source": [
    "from sklearn.preprocessing import MinMaxScaler\n",
    "\n",
    "X = pd.DataFrame(MinMaxScaler().fit_transform(X)).astype(np.float32)\n",
    "y=pd.DataFrame(MinMaxScaler().fit_transform(y)).astype(np.float32)"
   ]
  },
  {
   "cell_type": "code",
   "execution_count": 205,
   "metadata": {},
   "outputs": [
    {
     "name": "stdout",
     "output_type": "stream",
     "text": [
      "(1018, 590)\n"
     ]
    }
   ],
   "source": [
    "#split the data\n",
    "from sklearn.model_selection import train_test_split \n",
    "\n",
    "X_train, X_test, y_train, y_test = train_test_split(X, y, test_size = 0.35, random_state=1)\n",
    "\n",
    "print (np.shape(X_train))"
   ]
  },
  {
   "cell_type": "markdown",
   "metadata": {},
   "source": [
    "# Single layer (simple) neural network classifier"
   ]
  },
  {
   "cell_type": "code",
   "execution_count": 166,
   "metadata": {},
   "outputs": [],
   "source": [
    "#for our simple neural network, we will use a single layer with a RELU function"
   ]
  },
  {
   "cell_type": "code",
   "execution_count": 208,
   "metadata": {},
   "outputs": [],
   "source": [
    "model = keras.Sequential()\n",
    "model.add(keras.layers.Dense(100, input_dim=np.shape(X_train)[1], activation='relu'))\n",
    "model.add(keras.layers.Dense(1, activation='sigmoid'))\n",
    "\n",
    "model.compile(optimizer='adam', \n",
    "              loss='mean_squared_error',\n",
    "              metrics=['accuracy'])"
   ]
  },
  {
   "cell_type": "code",
   "execution_count": 209,
   "metadata": {},
   "outputs": [
    {
     "name": "stdout",
     "output_type": "stream",
     "text": [
      "Epoch 1/20\n",
      "1018/1018 [==============================] - 1s 1ms/sample - loss: 0.0690 - acc: 0.9342\n",
      "Epoch 2/20\n",
      "1018/1018 [==============================] - 0s 142us/sample - loss: 0.0652 - acc: 0.9342\n",
      "Epoch 3/20\n",
      "1018/1018 [==============================] - 0s 145us/sample - loss: 0.0637 - acc: 0.9342\n",
      "Epoch 4/20\n",
      "1018/1018 [==============================] - 0s 146us/sample - loss: 0.0612 - acc: 0.9342\n",
      "Epoch 5/20\n",
      "1018/1018 [==============================] - 0s 143us/sample - loss: 0.0605 - acc: 0.9342\n",
      "Epoch 6/20\n",
      "1018/1018 [==============================] - 0s 145us/sample - loss: 0.0600 - acc: 0.9342\n",
      "Epoch 7/20\n",
      "1018/1018 [==============================] - 0s 145us/sample - loss: 0.0596 - acc: 0.9342\n",
      "Epoch 8/20\n",
      "1018/1018 [==============================] - 0s 147us/sample - loss: 0.0591 - acc: 0.9342\n",
      "Epoch 9/20\n",
      "1018/1018 [==============================] - 0s 145us/sample - loss: 0.0573 - acc: 0.9352\n",
      "Epoch 10/20\n",
      "1018/1018 [==============================] - 0s 139us/sample - loss: 0.0566 - acc: 0.9342\n",
      "Epoch 11/20\n",
      "1018/1018 [==============================] - 0s 148us/sample - loss: 0.0559 - acc: 0.9361\n",
      "Epoch 12/20\n",
      "1018/1018 [==============================] - 0s 165us/sample - loss: 0.0552 - acc: 0.9352\n",
      "Epoch 13/20\n",
      "1018/1018 [==============================] - 0s 149us/sample - loss: 0.0565 - acc: 0.9361\n",
      "Epoch 14/20\n",
      "1018/1018 [==============================] - 0s 152us/sample - loss: 0.0571 - acc: 0.9342\n",
      "Epoch 15/20\n",
      "1018/1018 [==============================] - 0s 152us/sample - loss: 0.0514 - acc: 0.9391\n",
      "Epoch 16/20\n",
      "1018/1018 [==============================] - 0s 149us/sample - loss: 0.0535 - acc: 0.9381\n",
      "Epoch 17/20\n",
      "1018/1018 [==============================] - 0s 152us/sample - loss: 0.0502 - acc: 0.9420\n",
      "Epoch 18/20\n",
      "1018/1018 [==============================] - 0s 155us/sample - loss: 0.0502 - acc: 0.9411\n",
      "Epoch 19/20\n",
      "1018/1018 [==============================] - 0s 152us/sample - loss: 0.0496 - acc: 0.9450\n",
      "Epoch 20/20\n",
      "1018/1018 [==============================] - 0s 147us/sample - loss: 0.0478 - acc: 0.9470\n"
     ]
    }
   ],
   "source": [
    "history=model.fit(np.array(X_train), np.array(y_train), epochs=20)"
   ]
  },
  {
   "cell_type": "code",
   "execution_count": 210,
   "metadata": {},
   "outputs": [
    {
     "name": "stdout",
     "output_type": "stream",
     "text": [
      "Training accuracy 0.95284873\n",
      "Test accuracy 0.92896175\n"
     ]
    }
   ],
   "source": [
    "_, train_acc = model.evaluate(X_train, y_train, verbose=0)\n",
    "_, test_acc = model.evaluate(X_test, y_test, verbose=0)\n",
    "\n",
    "print('Training accuracy ' + str(train_acc))\n",
    "\n",
    "print('Test accuracy ' + str(test_acc))"
   ]
  },
  {
   "cell_type": "code",
   "execution_count": 211,
   "metadata": {},
   "outputs": [
    {
     "data": {
      "text/plain": [
       "<matplotlib.legend.Legend at 0x1fe150e2780>"
      ]
     },
     "execution_count": 211,
     "metadata": {},
     "output_type": "execute_result"
    },
    {
     "data": {
      "image/png": "[encoded data removed]",
      "text/plain": [
       "<Figure size 432x288 with 2 Axes>"
      ]
     },
     "metadata": {
      "needs_background": "light"
     },
     "output_type": "display_data"
    }
   ],
   "source": [
    "# plot loss during training\n",
    "pyplot.subplot(211)\n",
    "pyplot.title('Loss')\n",
    "pyplot.plot(history.history['loss'], label='train')\n",
    "pyplot.legend()\n",
    "# plot accuracy during training\n",
    "pyplot.subplot(212)\n",
    "pyplot.title('Accuracy')\n",
    "pyplot.plot(history.history['acc'], label='train')\n",
    "pyplot.legend()\n"
   ]
  },
  {
   "cell_type": "markdown",
   "metadata": {},
   "source": [
    "## DNN Classifer\n"
   ]
  },
  {
   "cell_type": "markdown",
   "metadata": {},
   "source": [
    "For the deep neural network, I added hidden layers to the prevoius model."
   ]
  },
  {
   "cell_type": "code",
   "execution_count": 228,
   "metadata": {},
   "outputs": [
    {
     "name": "stdout",
     "output_type": "stream",
     "text": [
      "Epoch 1/20\n",
      "1018/1018 [==============================] - 1s 963us/sample - loss: 0.2434 - acc: 0.6248\n",
      "Epoch 2/20\n",
      "1018/1018 [==============================] - 0s 152us/sample - loss: 0.2015 - acc: 0.9342\n",
      "Epoch 3/20\n",
      "1018/1018 [==============================] - 0s 155us/sample - loss: 0.1704 - acc: 0.9342\n",
      "Epoch 4/20\n",
      "1018/1018 [==============================] - 0s 156us/sample - loss: 0.1476 - acc: 0.9342\n",
      "Epoch 5/20\n",
      "1018/1018 [==============================] - 0s 163us/sample - loss: 0.1309 - acc: 0.9342\n",
      "Epoch 6/20\n",
      "1018/1018 [==============================] - 0s 159us/sample - loss: 0.1183 - acc: 0.9342\n",
      "Epoch 7/20\n",
      "1018/1018 [==============================] - 0s 156us/sample - loss: 0.1088 - acc: 0.9342\n",
      "Epoch 8/20\n",
      "1018/1018 [==============================] - 0s 156us/sample - loss: 0.1014 - acc: 0.9342\n",
      "Epoch 9/20\n",
      "1018/1018 [==============================] - 0s 159us/sample - loss: 0.0957 - acc: 0.9342\n",
      "Epoch 10/20\n",
      "1018/1018 [==============================] - 0s 156us/sample - loss: 0.0910 - acc: 0.9342\n",
      "Epoch 11/20\n",
      "1018/1018 [==============================] - 0s 155us/sample - loss: 0.0873 - acc: 0.9342\n",
      "Epoch 12/20\n",
      "1018/1018 [==============================] - 0s 155us/sample - loss: 0.0842 - acc: 0.9342\n",
      "Epoch 13/20\n",
      "1018/1018 [==============================] - 0s 157us/sample - loss: 0.0816 - acc: 0.9342\n",
      "Epoch 14/20\n",
      "1018/1018 [==============================] - 0s 158us/sample - loss: 0.0795 - acc: 0.9342\n",
      "Epoch 15/20\n",
      "1018/1018 [==============================] - 0s 156us/sample - loss: 0.0777 - acc: 0.9342\n",
      "Epoch 16/20\n",
      "1018/1018 [==============================] - 0s 156us/sample - loss: 0.0761 - acc: 0.9342\n",
      "Epoch 17/20\n",
      "1018/1018 [==============================] - 0s 173us/sample - loss: 0.0748 - acc: 0.9342\n",
      "Epoch 18/20\n",
      "1018/1018 [==============================] - 0s 160us/sample - loss: 0.0736 - acc: 0.9342\n",
      "Epoch 19/20\n",
      "1018/1018 [==============================] - 0s 156us/sample - loss: 0.0726 - acc: 0.9342\n",
      "Epoch 20/20\n",
      "1018/1018 [==============================] - 0s 173us/sample - loss: 0.0717 - acc: 0.9342\n"
     ]
    }
   ],
   "source": [
    "#allow for parameters to adjust learning rate and momentum\n",
    "sgd = keras.optimizers.SGD(lr=0.025, decay=1e-6, momentum=0.2)\n",
    "\n",
    "DNN_model = keras.Sequential()\n",
    "DNN_model.add(keras.layers.Dense(100, input_dim=np.shape(X_train)[1], activation='relu'))\n",
    "DNN_model.add(keras.layers.Dense(50, activation=tf.nn.softmax))\n",
    "DNN_model.add(keras.layers.Dense(1, activation='sigmoid'))\n",
    "\n",
    "DNN_model.compile(optimizer='adam', \n",
    "              loss='mean_squared_error',\n",
    "              metrics=['accuracy'])\n",
    "\n",
    "# Compile model\n",
    "DNN_model.compile(loss='mean_squared_error', optimizer=sgd, metrics=['accuracy'])\n",
    "\n",
    "DNN_history=DNN_model.fit(np.array(X_train), np.array(y_train), epochs=20,batch_size=20)"
   ]
  },
  {
   "cell_type": "code",
   "execution_count": 229,
   "metadata": {},
   "outputs": [
    {
     "name": "stdout",
     "output_type": "stream",
     "text": [
      "Training accuracy 0.9341847\n",
      "Test accuracy 0.93260473\n"
     ]
    }
   ],
   "source": [
    "_, train_acc = model_DNN.evaluate(X_train, y_train, verbose=0)\n",
    "_, test_acc = model_DNN.evaluate(X_test, y_test, verbose=0)\n",
    "\n",
    "print('Training accuracy ' + str(train_acc))\n",
    "\n",
    "print('Test accuracy ' + str(test_acc))"
   ]
  },
  {
   "cell_type": "code",
   "execution_count": 231,
   "metadata": {},
   "outputs": [
    {
     "data": {
      "text/plain": [
       "<matplotlib.legend.Legend at 0x1fe22004f28>"
      ]
     },
     "execution_count": 231,
     "metadata": {},
     "output_type": "execute_result"
    },
    {
     "data": {
      "image/png": "[encoded data removed]",
      "text/plain": [
       "<Figure size 432x288 with 2 Axes>"
      ]
     },
     "metadata": {
      "needs_background": "light"
     },
     "output_type": "display_data"
    }
   ],
   "source": [
    "# plot loss during training\n",
    "pyplot.subplot(211)\n",
    "pyplot.title('Loss')\n",
    "pyplot.plot(DNN_history.history['loss'], label='train')\n",
    "pyplot.legend()\n",
    "# plot accuracy during training\n",
    "pyplot.subplot(212)\n",
    "pyplot.title('Accuracy')\n",
    "pyplot.plot(DNN_history.history['acc'], label='train')\n",
    "pyplot.legend()"
   ]
  },
  {
   "cell_type": "markdown",
   "metadata": {},
   "source": [
    "# RNN model (LSTM)"
   ]
  },
  {
   "cell_type": "code",
   "execution_count": 234,
   "metadata": {},
   "outputs": [
    {
     "name": "stdout",
     "output_type": "stream",
     "text": [
      "_________________________________________________________________\n",
      "Layer (type)                 Output Shape              Param #   \n",
      "=================================================================\n",
      "dense_94 (Dense)             (None, 100)               59100     \n",
      "_________________________________________________________________\n",
      "dense_95 (Dense)             (None, 1)                 101       \n",
      "=================================================================\n",
      "Total params: 59,201\n",
      "Trainable params: 59,201\n",
      "Non-trainable params: 0\n",
      "_________________________________________________________________\n",
      "None\n"
     ]
    }
   ],
   "source": [
    "RNN_model = keras.Sequential()\n",
    "RNN_model.add(keras.layers.Embedding(input_dim = np.shape(X_train)[1], output_dim = 50, input_length = np.shape(X_train)[1]))\n",
    "RNN_model.add(keras.layers.LSTM(50))\n",
    "RNN_model.add(keras.layers.Dense(1, activation='sigmoid'))\n",
    "RNN_model.compile(loss='binary_crossentropy', optimizer='adam', metrics=['accuracy'])\n",
    "print(model.summary())"
   ]
  },
  {
   "cell_type": "code",
   "execution_count": 235,
   "metadata": {},
   "outputs": [
    {
     "name": "stdout",
     "output_type": "stream",
     "text": [
      "Epoch 1/20\n",
      "1018/1018 [==============================] - 23s 22ms/sample - loss: 0.4070 - acc: 0.9342\n",
      "Epoch 2/20\n",
      "1018/1018 [==============================] - 19s 19ms/sample - loss: 0.2462 - acc: 0.9342\n",
      "Epoch 3/20\n",
      "1018/1018 [==============================] - 21s 20ms/sample - loss: 0.2437 - acc: 0.9342\n",
      "Epoch 4/20\n",
      "1018/1018 [==============================] - 21s 21ms/sample - loss: 0.2434 - acc: 0.9342\n",
      "Epoch 5/20\n",
      "1018/1018 [==============================] - 20s 19ms/sample - loss: 0.2436 - acc: 0.9342\n",
      "Epoch 6/20\n",
      "1018/1018 [==============================] - 19s 19ms/sample - loss: 0.2436 - acc: 0.9342\n",
      "Epoch 7/20\n",
      "1018/1018 [==============================] - 20s 19ms/sample - loss: 0.2446 - acc: 0.9342\n",
      "Epoch 8/20\n",
      "1018/1018 [==============================] - 18s 18ms/sample - loss: 0.2450 - acc: 0.9342\n",
      "Epoch 9/20\n",
      "1018/1018 [==============================] - 20s 19ms/sample - loss: 0.2433 - acc: 0.9342\n",
      "Epoch 10/20\n",
      "1018/1018 [==============================] - 20s 20ms/sample - loss: 0.2449 - acc: 0.9342\n",
      "Epoch 11/20\n",
      "1018/1018 [==============================] - 20s 20ms/sample - loss: 0.2429 - acc: 0.9342\n",
      "Epoch 12/20\n",
      "1018/1018 [==============================] - 21s 21ms/sample - loss: 0.2434 - acc: 0.9342\n",
      "Epoch 13/20\n",
      "1018/1018 [==============================] - 23s 23ms/sample - loss: 0.2442 - acc: 0.9342\n",
      "Epoch 14/20\n",
      "1018/1018 [==============================] - 21s 21ms/sample - loss: 0.2443 - acc: 0.9342\n",
      "Epoch 15/20\n",
      "1018/1018 [==============================] - 21s 21ms/sample - loss: 0.2434 - acc: 0.9342\n",
      "Epoch 16/20\n",
      "1018/1018 [==============================] - 21s 20ms/sample - loss: 0.2439 - acc: 0.9342\n",
      "Epoch 17/20\n",
      "1018/1018 [==============================] - 21s 20ms/sample - loss: 0.2435 - acc: 0.9342\n",
      "Epoch 18/20\n",
      "1018/1018 [==============================] - 21s 21ms/sample - loss: 0.2435 - acc: 0.9342\n",
      "Epoch 19/20\n",
      "1018/1018 [==============================] - 20s 19ms/sample - loss: 0.2435 - acc: 0.9342\n",
      "Epoch 20/20\n",
      "1018/1018 [==============================] - 20s 19ms/sample - loss: 0.2431 - acc: 0.9342\n"
     ]
    }
   ],
   "source": [
    "RNN_history=RNN_model.fit(np.array(X_train), np.array(y_train), epochs=20)"
   ]
  },
  {
   "cell_type": "code",
   "execution_count": 196,
   "metadata": {},
   "outputs": [
    {
     "data": {
      "text/plain": [
       "<matplotlib.legend.Legend at 0x1fe01107c88>"
      ]
     },
     "execution_count": 196,
     "metadata": {},
     "output_type": "execute_result"
    },
    {
     "data": {
      "image/png": "[encoded data removed]",
      "text/plain": [
       "<Figure size 432x288 with 2 Axes>"
      ]
     },
     "metadata": {
      "needs_background": "light"
     },
     "output_type": "display_data"
    }
   ],
   "source": [
    "# plot loss during training\n",
    "pyplot.subplot(211)\n",
    "pyplot.title('Loss')\n",
    "pyplot.plot(RNN_history.history['loss'], label='train')\n",
    "pyplot.legend()\n",
    "# plot accuracy during training\n",
    "pyplot.subplot(212)\n",
    "pyplot.title('Accuracy')\n",
    "pyplot.plot(RNN_history.history['acc'], label='train')\n",
    "pyplot.legend()"
   ]
  },
  {
   "cell_type": "code",
   "execution_count": 236,
   "metadata": {},
   "outputs": [
    {
     "name": "stdout",
     "output_type": "stream",
     "text": [
      "Training accuracy 0.9341847\n",
      "Test accuracy 0.93260473\n"
     ]
    }
   ],
   "source": [
    "_, train_acc = RNN_model.evaluate(X_train, y_train, verbose=0)\n",
    "_, test_acc = RNN_model.evaluate(X_test, y_test, verbose=0)\n",
    "\n",
    "print('Training accuracy ' + str(train_acc))\n",
    "\n",
    "print('Test accuracy ' + str(test_acc))"
   ]
  }
 ],
 "metadata": {
  "kernelspec": {
   "display_name": "Python 3",
   "language": "python",
   "name": "python3"
  },
  "language_info": {
   "codemirror_mode": {
    "name": "ipython",
    "version": 3
   },
   "file_extension": ".py",
   "mimetype": "text/x-python",
   "name": "python",
   "nbconvert_exporter": "python",
   "pygments_lexer": "ipython3",
   "version": "3.6.6"
  }
 },
 "nbformat": 4,
 "nbformat_minor": 2
}
